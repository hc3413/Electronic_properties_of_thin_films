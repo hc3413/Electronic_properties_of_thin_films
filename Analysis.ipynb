{
 "cells": [
  {
   "cell_type": "code",
   "execution_count": 3,
   "metadata": {},
   "outputs": [],
   "source": [
    "#source EPOTFenv/bin/activate (launching and exiting the virtual environment containing the required modules, stored in the working directory for VNA_Analysis)\n",
    "#EPOTFenv/bin/python your_script.py - for running a script in the virtual environment\n",
    "#source deactivate\n",
    "\n",
    "#import all the libraries needed\n",
    "from imports import *\n",
    "# import my functions\n",
    "from functions import *\n",
    "\n",
    "# Define the path to the output directory where data is saved\n",
    "path_out =  ('/Users/horatiocox/Desktop/RUG Postdoc/Experiments/Electrical/VDP_JT029_SrRuO3')\n",
    "# Define the path to the directories containing the experimental data\n",
    "directory_1 = Path('/Users/horatiocox/Desktop/Electronic_properties_of_thin_films/Data/')\n",
    "\n"
   ]
  },
  {
   "cell_type": "markdown",
   "metadata": {},
   "source": [
    "## Importing Measurement Data "
   ]
  },
  {
   "cell_type": "code",
   "execution_count": 29,
   "metadata": {},
   "outputs": [
    {
     "name": "stdout",
     "output_type": "stream",
     "text": [
      "[0, 1, 2, 3, 4, 5, 6, 7]\n"
     ]
    },
    {
     "data": {
      "text/html": [
       "<div>\n",
       "<style scoped>\n",
       "    .dataframe tbody tr th:only-of-type {\n",
       "        vertical-align: middle;\n",
       "    }\n",
       "\n",
       "    .dataframe tbody tr th {\n",
       "        vertical-align: top;\n",
       "    }\n",
       "\n",
       "    .dataframe thead th {\n",
       "        text-align: right;\n",
       "    }\n",
       "</style>\n",
       "<table border=\"1\" class=\"dataframe\">\n",
       "  <thead>\n",
       "    <tr style=\"text-align: right;\">\n",
       "      <th></th>\n",
       "      <th>0</th>\n",
       "      <th>1</th>\n",
       "      <th>2</th>\n",
       "      <th>3</th>\n",
       "      <th>4</th>\n",
       "      <th>5</th>\n",
       "      <th>6</th>\n",
       "      <th>7</th>\n",
       "    </tr>\n",
       "  </thead>\n",
       "  <tbody>\n",
       "    <tr>\n",
       "      <th>0</th>\n",
       "      <td>4.9985</td>\n",
       "      <td>-0.199797</td>\n",
       "      <td>-0.00001</td>\n",
       "      <td>-0.0118</td>\n",
       "      <td>-0.000010</td>\n",
       "      <td>0.0</td>\n",
       "      <td>0.0</td>\n",
       "      <td></td>\n",
       "    </tr>\n",
       "    <tr>\n",
       "      <th>1</th>\n",
       "      <td>4.9985</td>\n",
       "      <td>-0.199797</td>\n",
       "      <td>-0.00001</td>\n",
       "      <td>-0.0118</td>\n",
       "      <td>0.000112</td>\n",
       "      <td>1.0</td>\n",
       "      <td>0.0</td>\n",
       "      <td></td>\n",
       "    </tr>\n",
       "    <tr>\n",
       "      <th>2</th>\n",
       "      <td>4.9985</td>\n",
       "      <td>-0.199797</td>\n",
       "      <td>-0.00001</td>\n",
       "      <td>-0.0118</td>\n",
       "      <td>-0.000673</td>\n",
       "      <td>2.0</td>\n",
       "      <td>0.0</td>\n",
       "      <td></td>\n",
       "    </tr>\n",
       "    <tr>\n",
       "      <th>3</th>\n",
       "      <td>4.9985</td>\n",
       "      <td>-0.199797</td>\n",
       "      <td>-0.00001</td>\n",
       "      <td>-0.0118</td>\n",
       "      <td>-0.000667</td>\n",
       "      <td>3.0</td>\n",
       "      <td>0.0</td>\n",
       "      <td></td>\n",
       "    </tr>\n",
       "    <tr>\n",
       "      <th>4</th>\n",
       "      <td>4.9985</td>\n",
       "      <td>-0.199797</td>\n",
       "      <td>-0.00001</td>\n",
       "      <td>-0.0118</td>\n",
       "      <td>-0.000541</td>\n",
       "      <td>4.0</td>\n",
       "      <td>0.0</td>\n",
       "      <td></td>\n",
       "    </tr>\n",
       "  </tbody>\n",
       "</table>\n",
       "</div>"
      ],
      "text/plain": [
       "         0            1        2       3         4    5    6  7\n",
       "0  4.9985    -0.199797  -0.00001 -0.0118 -0.000010  0.0  0.0   \n",
       "1  4.9985    -0.199797  -0.00001 -0.0118  0.000112  1.0  0.0   \n",
       "2  4.9985    -0.199797  -0.00001 -0.0118 -0.000673  2.0  0.0   \n",
       "3  4.9985    -0.199797  -0.00001 -0.0118 -0.000667  3.0  0.0   \n",
       "4  4.9985    -0.199797  -0.00001 -0.0118 -0.000541  4.0  0.0   "
      ]
     },
     "execution_count": 29,
     "metadata": {},
     "output_type": "execute_result"
    }
   ],
   "source": [
    "# Import the file into a pandas dataframe\n",
    "df = pd.read_csv(directory_1.joinpath('JT029_SrRuO3_171024_Combined'), sep='\\t', skiprows=6, header=None)\n",
    "# Add headers for the last two columns\n",
    "#df.columns = list(['Temp','Field','Source (A)', 'Source (V)', 'Sense (V)','index', 'index_2'])\n",
    "\n",
    "# Display the dataframe\n",
    "print(list(df.columns))\n",
    "df.head()\n",
    "#df['5']\n"
   ]
  },
  {
   "cell_type": "code",
   "execution_count": null,
   "metadata": {},
   "outputs": [],
   "source": [
    "total = pandas.read_csv(path_1.joinpath('JT029_SrRuO3_171024_Combined'),sep=' ',skiprows=10, header = None) "
   ]
  },
  {
   "cell_type": "code",
   "execution_count": null,
   "metadata": {},
   "outputs": [],
   "source": [
    "\n",
    "\n",
    "\n",
    "\n",
    "total = pandas.read_csv(path_1.joinpath('a30037_0 (19) - SiO_2-.txt'),sep=' ',skiprows=10, header = None) \n",
    "data = total[3]\n",
    "frames = [total[0].iloc[-1]+1, total[1].iloc[-1]+1, total[2].iloc[-1]+1] #frames stores the size of the data array e.g. resolution of image - got rid of zero indexing\n",
    "print(frames)\n",
    "data = data.to_numpy()\n",
    "\n",
    "mat = np.zeros([np.size(data),6])\n",
    "mat.shape\n",
    "\n",
    "mat[:,1] = data\n",
    "#total stored in zero\n",
    "#oxygen stored in 1\n",
    "#Silicon stored in 2\n",
    "#gold stored in 3\n",
    "#hydrogen stored in 4\n",
    "#sio2 stored in 5\n",
    "\n",
    "\n",
    "# Feeding Data into an np array and reshaping to 3D\n",
    "mathi = mat.reshape((frames[2],frames[1],frames[0],6))\n",
    "mathi = np.transpose(mathi,(1,2,0,3))\n",
    "\n",
    "print(mathi.shape)\n",
    "#mat = np.sum(mat,axis=0)\n",
    "\n",
    "#saving the data\n",
    "np.save(path_1.joinpath('sims2437.npy'), mathi)"
   ]
  },
  {
   "cell_type": "code",
   "execution_count": null,
   "metadata": {},
   "outputs": [],
   "source": []
  }
 ],
 "metadata": {
  "kernelspec": {
   "display_name": "EPOTFvenv",
   "language": "python",
   "name": "python3"
  },
  "language_info": {
   "codemirror_mode": {
    "name": "ipython",
    "version": 3
   },
   "file_extension": ".py",
   "mimetype": "text/x-python",
   "name": "python",
   "nbconvert_exporter": "python",
   "pygments_lexer": "ipython3",
   "version": "3.12.2"
  }
 },
 "nbformat": 4,
 "nbformat_minor": 2
}
