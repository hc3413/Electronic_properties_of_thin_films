{
 "cells": [
  {
   "cell_type": "code",
   "execution_count": 3,
   "metadata": {},
   "outputs": [],
   "source": [
    "#source EPOTFenv/bin/activate (launching and exiting the virtual environment containing the required modules, stored in the working directory for VNA_Analysis)\n",
    "#EPOTFenv/bin/python your_script.py - for running a script in the virtual environment\n",
    "#source deactivate\n",
    "\n",
    "#import all the libraries needed\n",
    "from imports import *\n",
    "# import my functions\n",
    "from functions import *\n",
    "\n",
    "# Define the path to the output directory where data is saved\n",
    "path_out =  ('/Users/horatiocox/Desktop/RUG Postdoc/Experiments/Electrical/VDP_JT029_SrRuO3')\n",
    "# Define the path to the directories containing the experimental data\n",
    "directory_1 = Path('/Users/horatiocox/Desktop/Electronic_properties_of_thin_films/Data/')\n",
    "\n"
   ]
  },
  {
   "cell_type": "markdown",
   "metadata": {},
   "source": [
    "## Importing Measurement Data "
   ]
  },
  {
   "cell_type": "code",
   "execution_count": 62,
   "metadata": {},
   "outputs": [
    {
     "name": "stdout",
     "output_type": "stream",
     "text": [
      "[dtype('float64'), dtype('float64'), dtype('float64'), dtype('float64'), dtype('float64'), dtype('int64')]\n",
      "['Temp', 'Field', 'Source (A)', 'Source (V)', 'Sense (V)', 'index']\n"
     ]
    },
    {
     "data": {
      "text/html": [
       "<div>\n",
       "<style scoped>\n",
       "    .dataframe tbody tr th:only-of-type {\n",
       "        vertical-align: middle;\n",
       "    }\n",
       "\n",
       "    .dataframe tbody tr th {\n",
       "        vertical-align: top;\n",
       "    }\n",
       "\n",
       "    .dataframe thead th {\n",
       "        text-align: right;\n",
       "    }\n",
       "</style>\n",
       "<table border=\"1\" class=\"dataframe\">\n",
       "  <thead>\n",
       "    <tr style=\"text-align: right;\">\n",
       "      <th></th>\n",
       "      <th>Temp</th>\n",
       "      <th>Field</th>\n",
       "      <th>Source (A)</th>\n",
       "      <th>Source (V)</th>\n",
       "      <th>Sense (V)</th>\n",
       "      <th>index</th>\n",
       "    </tr>\n",
       "  </thead>\n",
       "  <tbody>\n",
       "    <tr>\n",
       "      <th>0</th>\n",
       "      <td>4.9985</td>\n",
       "      <td>-0.199797</td>\n",
       "      <td>-0.00001</td>\n",
       "      <td>-0.0118</td>\n",
       "      <td>-0.000010</td>\n",
       "      <td>0</td>\n",
       "    </tr>\n",
       "    <tr>\n",
       "      <th>1</th>\n",
       "      <td>4.9985</td>\n",
       "      <td>-0.199797</td>\n",
       "      <td>-0.00001</td>\n",
       "      <td>-0.0118</td>\n",
       "      <td>0.000112</td>\n",
       "      <td>1</td>\n",
       "    </tr>\n",
       "    <tr>\n",
       "      <th>2</th>\n",
       "      <td>4.9985</td>\n",
       "      <td>-0.199797</td>\n",
       "      <td>-0.00001</td>\n",
       "      <td>-0.0118</td>\n",
       "      <td>-0.000673</td>\n",
       "      <td>2</td>\n",
       "    </tr>\n",
       "    <tr>\n",
       "      <th>3</th>\n",
       "      <td>4.9985</td>\n",
       "      <td>-0.199797</td>\n",
       "      <td>-0.00001</td>\n",
       "      <td>-0.0118</td>\n",
       "      <td>-0.000667</td>\n",
       "      <td>3</td>\n",
       "    </tr>\n",
       "    <tr>\n",
       "      <th>4</th>\n",
       "      <td>4.9985</td>\n",
       "      <td>-0.199797</td>\n",
       "      <td>-0.00001</td>\n",
       "      <td>-0.0118</td>\n",
       "      <td>-0.000541</td>\n",
       "      <td>4</td>\n",
       "    </tr>\n",
       "  </tbody>\n",
       "</table>\n",
       "</div>"
      ],
      "text/plain": [
       "     Temp     Field  Source (A)  Source (V)  Sense (V)  index\n",
       "0  4.9985 -0.199797    -0.00001     -0.0118  -0.000010      0\n",
       "1  4.9985 -0.199797    -0.00001     -0.0118   0.000112      1\n",
       "2  4.9985 -0.199797    -0.00001     -0.0118  -0.000673      2\n",
       "3  4.9985 -0.199797    -0.00001     -0.0118  -0.000667      3\n",
       "4  4.9985 -0.199797    -0.00001     -0.0118  -0.000541      4"
      ]
     },
     "execution_count": 62,
     "metadata": {},
     "output_type": "execute_result"
    }
   ],
   "source": [
    "# Import the file, treating lines with non-numeric data as comments\n",
    "df = pd.read_csv(directory_1.joinpath('JT029_SrRuO3_171024_Combined'), sep='\\t', skiprows=6, header=None, comment='N')\n",
    "\n",
    "# Drop unwanted columns\n",
    "df.drop(df.columns[[6, 7]], axis=1, inplace=True)\n",
    "\n",
    "# Assign headers to columns\n",
    "df.columns = ['Temp', 'Field', 'Source (A)', 'Source (V)', 'Sense (V)', 'index']\n",
    "\n",
    "# Convert columns to the appropriate data types\n",
    "df['Temp'] = pd.to_numeric(df['Temp'], errors='coerce')\n",
    "df['Field'] = pd.to_numeric(df['Field'], errors='coerce')\n",
    "df['Source (A)'] = pd.to_numeric(df['Source (A)'], errors='coerce')\n",
    "df['Source (V)'] = pd.to_numeric(df['Source (V)'], errors='coerce')\n",
    "df['Sense (V)'] = pd.to_numeric(df['Sense (V)'], errors='coerce')\n",
    "df['index'] = pd.to_numeric(df['index'], downcast='integer', errors='coerce')\n",
    "\n",
    "# Drop rows where all values are NaN (e.g., empty lines)\n",
    "df.dropna(how='all', inplace=True)\n",
    "\n",
    "# Convert the 'index' column to integer format\n",
    "df['index'] = df['index'].astype(int)\n",
    "\n",
    "# Check data types and column names\n",
    "column_formats = [df[col].dtype for col in df.columns]\n",
    "print(column_formats)\n",
    "\n",
    "# Display the first few rows of the dataframe\n",
    "print(list(df.columns))\n",
    "df.head()\n"
   ]
  },
  {
   "cell_type": "code",
   "execution_count": null,
   "metadata": {},
   "outputs": [],
   "source": [
    "total = pandas.read_csv(path_1.joinpath('JT029_SrRuO3_171024_Combined'),sep=' ',skiprows=10, header = None) "
   ]
  },
  {
   "cell_type": "code",
   "execution_count": null,
   "metadata": {},
   "outputs": [],
   "source": [
    "\n",
    "\n",
    "\n",
    "\n",
    "total = pandas.read_csv(path_1.joinpath('a30037_0 (19) - SiO_2-.txt'),sep=' ',skiprows=10, header = None) \n",
    "data = total[3]\n",
    "frames = [total[0].iloc[-1]+1, total[1].iloc[-1]+1, total[2].iloc[-1]+1] #frames stores the size of the data array e.g. resolution of image - got rid of zero indexing\n",
    "print(frames)\n",
    "data = data.to_numpy()\n",
    "\n",
    "mat = np.zeros([np.size(data),6])\n",
    "mat.shape\n",
    "\n",
    "mat[:,1] = data\n",
    "#total stored in zero\n",
    "#oxygen stored in 1\n",
    "#Silicon stored in 2\n",
    "#gold stored in 3\n",
    "#hydrogen stored in 4\n",
    "#sio2 stored in 5\n",
    "\n",
    "\n",
    "# Feeding Data into an np array and reshaping to 3D\n",
    "mathi = mat.reshape((frames[2],frames[1],frames[0],6))\n",
    "mathi = np.transpose(mathi,(1,2,0,3))\n",
    "\n",
    "print(mathi.shape)\n",
    "#mat = np.sum(mat,axis=0)\n",
    "\n",
    "#saving the data\n",
    "np.save(path_1.joinpath('sims2437.npy'), mathi)"
   ]
  },
  {
   "cell_type": "code",
   "execution_count": null,
   "metadata": {},
   "outputs": [],
   "source": []
  }
 ],
 "metadata": {
  "kernelspec": {
   "display_name": "EPOTFvenv",
   "language": "python",
   "name": "python3"
  },
  "language_info": {
   "codemirror_mode": {
    "name": "ipython",
    "version": 3
   },
   "file_extension": ".py",
   "mimetype": "text/x-python",
   "name": "python",
   "nbconvert_exporter": "python",
   "pygments_lexer": "ipython3",
   "version": "3.12.2"
  }
 },
 "nbformat": 4,
 "nbformat_minor": 2
}
